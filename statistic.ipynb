{
 "cells": [
  {
   "cell_type": "code",
   "execution_count": 23,
   "metadata": {},
   "outputs": [],
   "source": [
    "import matplotlib.pyplot as plt"
   ]
  },
  {
   "cell_type": "code",
   "execution_count": 24,
   "metadata": {},
   "outputs": [],
   "source": [
    "p = [1, 4, 9, 16, 25, 36]\n",
    "\n",
    "linear = [1, 4, 9, 16, 25, 36]\n",
    "\n",
    "time_num = [7295, 2304, 1449, 1150, 1162, 1259] # ms\n",
    "numeric = []\n",
    "for time in time_num:\n",
    "    numeric.append(time_num[0] / time)"
   ]
  },
  {
   "cell_type": "code",
   "execution_count": null,
   "metadata": {},
   "outputs": [],
   "source": [
    "plt.title(\"Ускорение программы в зависимости от количества потоков\")\n",
    "plt.xlabel(\"p - количество потокв\")\n",
    "plt.ylabel(\"s - ускорение\")\n",
    "plt.legend(fontsize=10)\n",
    "\n",
    "plt.plot(p, linear, label = \"Linear\")\n",
    "\n",
    "plt.plot(p, numeric, label = \"Numeric\")\n",
    "\n",
    "\n"
   ]
  },
  {
   "cell_type": "code",
   "execution_count": null,
   "metadata": {},
   "outputs": [],
   "source": [
    "p = [1, 4, 9, 16, 25, 36, 64, 81, 100]\n",
    "\n",
    "linear = [1, 4, 9, 16, 25, 36, 64, 81, 100]\n",
    "\n",
    "time_num = [1, 4, 9, 16, 25, 36, 52938, 42464, 42427] # ms\n",
    "numeric = []    \n",
    "for time in time_num:\n",
    "    numeric.append(time_num[0] / time)"
   ]
  }
 ],
 "metadata": {
  "kernelspec": {
   "display_name": "Python 3",
   "language": "python",
   "name": "python3"
  },
  "language_info": {
   "codemirror_mode": {
    "name": "ipython",
    "version": 3
   },
   "file_extension": ".py",
   "mimetype": "text/x-python",
   "name": "python",
   "nbconvert_exporter": "python",
   "pygments_lexer": "ipython3",
   "version": "3.8.10"
  },
  "orig_nbformat": 4,
  "vscode": {
   "interpreter": {
    "hash": "916dbcbb3f70747c44a77c7bcd40155683ae19c65e1c03b4aa3499c5328201f1"
   }
  }
 },
 "nbformat": 4,
 "nbformat_minor": 2
}
